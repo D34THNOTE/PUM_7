{
 "cells": [
  {
   "cell_type": "markdown",
   "metadata": {},
   "source": [
    "## Assignment 7 by Celina Cywinska (s22946)"
   ]
  },
  {
   "cell_type": "code",
   "execution_count": 30,
   "metadata": {
    "colab": {
     "base_uri": "https://localhost:8080/"
    },
    "id": "0hk22wZDYbVQ",
    "outputId": "fbee06d1-3c7e-4884-f230-d657e6f7b4de"
   },
   "outputs": [
    {
     "name": "stdout",
     "output_type": "stream",
     "text": [
      "Requirement already satisfied: mnist in /Users/celinkacywinska/anaconda3/envs/task7/lib/python3.10/site-packages (0.2.2)\r\n",
      "Requirement already satisfied: numpy in /Users/celinkacywinska/anaconda3/envs/task7/lib/python3.10/site-packages (from mnist) (1.23.5)\r\n"
     ]
    }
   ],
   "source": [
    "!pip install mnist\n",
    "\n",
    "import tensorflow as tf\n",
    "import numpy as np\n",
    "import mnist\n",
    "\n",
    "from keras.models import Sequential\n",
    "from keras.layers import Dense\n",
    "from keras.callbacks import EarlyStopping\n",
    "from keras.callbacks import ModelCheckpoint\n",
    "from keras.models import load_model\n",
    "from matplotlib import pyplot\n",
    "import matplotlib.pyplot as plt\n",
    "from tensorflow.keras.utils import to_categorical\n",
    "\n",
    "from tensorflow import keras\n",
    "from tensorflow.keras import backend as K"
   ]
  },
  {
   "cell_type": "code",
   "execution_count": 6,
   "metadata": {
    "id": "2CPZuB2vsqBS"
   },
   "outputs": [],
   "source": [
    "train_images = mnist.train_images()\n",
    "train_labels = mnist.train_labels()\n",
    "test_images = mnist.test_images()\n",
    "test_labels = mnist.test_labels()\n",
    "\n",
    "train_images = (train_images / 255) - 0.5\n",
    "test_images = (test_images / 255) - 0.5\n",
    "\n",
    "train_images = train_images.reshape((-1, 784))\n",
    "test_images = test_images.reshape((-1, 784))\n",
    "\n",
    "model = Sequential([\n",
    "  Dense(64, activation='relu', input_shape=(784,)),\n",
    "  Dense(64, activation='relu'),\n",
    "  Dense(10, activation='softmax'),\n",
    "])"
   ]
  },
  {
   "cell_type": "code",
   "execution_count": 7,
   "metadata": {
    "id": "T-nhhMPgV6VD"
   },
   "outputs": [],
   "source": [
    "model.compile(\n",
    "  optimizer='adam',\n",
    "  loss='categorical_crossentropy',\n",
    "  metrics=['accuracy'],\n",
    ")"
   ]
  },
  {
   "cell_type": "markdown",
   "metadata": {},
   "source": [
    "### 📚 Task 1\n",
    "##### Create the new variable \"f1\", refer to early stopping class, enter the appropriate values (whatever you want, but enter \"10\" for the patience variable) for parameters such as monitor, mode, verbose and patience."
   ]
  },
  {
   "cell_type": "code",
   "execution_count": 8,
   "metadata": {},
   "outputs": [],
   "source": [
    "# This callback will stop the training when there is no improvement in the loss for 10 consecutive epochs.\n",
    "f1 = EarlyStopping(monitor='val_loss', mode='min', verbose=1, patience=10)"
   ]
  },
  {
   "cell_type": "markdown",
   "metadata": {},
   "source": [
    "### 📚 Task 2\n",
    "##### Create the new variable \"f2\", refer to ModelCheckpoint class, enter a name for your model and the appropriate values for the monitor, mode, verbose and save_best_only parameters (again - whatever you want, experiment 🔬).\n"
   ]
  },
  {
   "cell_type": "code",
   "execution_count": 13,
   "metadata": {},
   "outputs": [],
   "source": [
    "f2 = ModelCheckpoint(filepath='task2model', monitor='val_accuracy', mode='max', verbose=1, save_best_only=True)"
   ]
  },
  {
   "cell_type": "markdown",
   "metadata": {},
   "source": [
    "### 📚 Task 3\n",
    "##### Create the new variable \"history\". This variable should contain the training data (x), trning data labels (y), test data (a), test data labels (b) and the corresponding epochs and verbose parameters created in the previous step. For labels, to_categorical () can be a useful function.\n"
   ]
  },
  {
   "cell_type": "code",
   "execution_count": 14,
   "metadata": {},
   "outputs": [
    {
     "name": "stdout",
     "output_type": "stream",
     "text": [
      "Epoch 1/10\n",
      " 125/2000 [>.............................] - ETA: 0s - loss: 1.1242 - accuracy: 0.6544  "
     ]
    },
    {
     "name": "stderr",
     "output_type": "stream",
     "text": [
      "2023-04-18 10:59:01.920622: W tensorflow/tsl/platform/profile_utils/cpu_utils.cc:128] Failed to get CPU frequency: 0 Hz\n"
     ]
    },
    {
     "name": "stdout",
     "output_type": "stream",
     "text": [
      "1951/2000 [============================>.] - ETA: 0s - loss: 0.3632 - accuracy: 0.8896\n",
      "Epoch 1: val_accuracy improved from -inf to 0.93560, saving model to task2model\n",
      "INFO:tensorflow:Assets written to: task2model/assets\n",
      "2000/2000 [==============================] - 1s 642us/step - loss: 0.3595 - accuracy: 0.8908 - val_loss: 0.2133 - val_accuracy: 0.9356\n",
      "Epoch 2/10\n",
      "1883/2000 [===========================>..] - ETA: 0s - loss: 0.1849 - accuracy: 0.9441\n",
      "Epoch 2: val_accuracy improved from 0.93560 to 0.95100, saving model to task2model\n",
      "INFO:tensorflow:Assets written to: task2model/assets\n",
      "2000/2000 [==============================] - 1s 543us/step - loss: 0.1846 - accuracy: 0.9440 - val_loss: 0.1634 - val_accuracy: 0.9510\n",
      "Epoch 3/10\n",
      "1933/2000 [===========================>..] - ETA: 0s - loss: 0.1456 - accuracy: 0.9553\n",
      "Epoch 3: val_accuracy improved from 0.95100 to 0.95690, saving model to task2model\n",
      "INFO:tensorflow:Assets written to: task2model/assets\n",
      "2000/2000 [==============================] - 1s 530us/step - loss: 0.1453 - accuracy: 0.9554 - val_loss: 0.1364 - val_accuracy: 0.9569\n",
      "Epoch 4/10\n",
      "1954/2000 [============================>.] - ETA: 0s - loss: 0.1218 - accuracy: 0.9620\n",
      "Epoch 4: val_accuracy improved from 0.95690 to 0.96530, saving model to task2model\n",
      "INFO:tensorflow:Assets written to: task2model/assets\n",
      "2000/2000 [==============================] - 1s 527us/step - loss: 0.1220 - accuracy: 0.9621 - val_loss: 0.1169 - val_accuracy: 0.9653\n",
      "Epoch 5/10\n",
      "1937/2000 [============================>.] - ETA: 0s - loss: 0.1043 - accuracy: 0.9678\n",
      "Epoch 5: val_accuracy did not improve from 0.96530\n",
      "2000/2000 [==============================] - 1s 459us/step - loss: 0.1038 - accuracy: 0.9679 - val_loss: 0.1101 - val_accuracy: 0.9648\n",
      "Epoch 6/10\n",
      "1979/2000 [============================>.] - ETA: 0s - loss: 0.0948 - accuracy: 0.9702\n",
      "Epoch 6: val_accuracy did not improve from 0.96530\n",
      "2000/2000 [==============================] - 1s 450us/step - loss: 0.0947 - accuracy: 0.9702 - val_loss: 0.1115 - val_accuracy: 0.9643\n",
      "Epoch 7/10\n",
      "1926/2000 [===========================>..] - ETA: 0s - loss: 0.0853 - accuracy: 0.9730\n",
      "Epoch 7: val_accuracy improved from 0.96530 to 0.97130, saving model to task2model\n",
      "INFO:tensorflow:Assets written to: task2model/assets\n",
      "2000/2000 [==============================] - 1s 533us/step - loss: 0.0851 - accuracy: 0.9731 - val_loss: 0.0896 - val_accuracy: 0.9713\n",
      "Epoch 8/10\n",
      "1940/2000 [============================>.] - ETA: 0s - loss: 0.0762 - accuracy: 0.9754\n",
      "Epoch 8: val_accuracy did not improve from 0.97130\n",
      "2000/2000 [==============================] - 1s 459us/step - loss: 0.0763 - accuracy: 0.9754 - val_loss: 0.1104 - val_accuracy: 0.9659\n",
      "Epoch 9/10\n",
      "1965/2000 [============================>.] - ETA: 0s - loss: 0.0708 - accuracy: 0.9765\n",
      "Epoch 9: val_accuracy did not improve from 0.97130\n",
      "2000/2000 [==============================] - 1s 453us/step - loss: 0.0709 - accuracy: 0.9764 - val_loss: 0.0998 - val_accuracy: 0.9694\n",
      "Epoch 10/10\n",
      "1961/2000 [============================>.] - ETA: 0s - loss: 0.0662 - accuracy: 0.9783\n",
      "Epoch 10: val_accuracy did not improve from 0.97130\n",
      "2000/2000 [==============================] - 1s 455us/step - loss: 0.0661 - accuracy: 0.9784 - val_loss: 0.0955 - val_accuracy: 0.9710\n"
     ]
    }
   ],
   "source": [
    "history = model.fit(\n",
    "  x=train_images,\n",
    "  y=to_categorical(train_labels),\n",
    "  validation_data=(test_images, to_categorical(test_labels)),\n",
    "  epochs=10,\n",
    "  verbose=1,\n",
    "  batch_size=30,\n",
    "  callbacks=[f1, f2]  #callbacks"
   ]
  },
  {
   "cell_type": "markdown",
   "metadata": {},
   "source": [
    "### 📚 Task 4\n",
    "##### Create the new variable \"trained_model\", load the model using the model name from the second point."
   ]
  },
  {
   "cell_type": "code",
   "execution_count": 18,
   "metadata": {},
   "outputs": [],
   "source": [
    "trained_model = load_model('task2model')"
   ]
  },
  {
   "cell_type": "markdown",
   "metadata": {},
   "source": [
    "### 📚 Task 5\n",
    "##### Create the new variable \"train_accuracy\", refer to trained_model.evaluate class, use training data (x) and training data labels (y)."
   ]
  },
  {
   "cell_type": "code",
   "execution_count": 20,
   "metadata": {},
   "outputs": [
    {
     "name": "stdout",
     "output_type": "stream",
     "text": [
      "2000/2000 [==============================] - 1s 270us/step - loss: 0.0574 - accuracy: 0.9821\n"
     ]
    }
   ],
   "source": [
    "train_accuracy = trained_model.evaluate(\n",
    "    x=train_images,\n",
    "    y=to_categorical(train_labels),\n",
    "    batch_size=30,\n",
    "    verbose=1,\n",
    "    callbacks=[f1, f2]\n",
    ")"
   ]
  },
  {
   "cell_type": "markdown",
   "metadata": {},
   "source": [
    "### 📚 Task 6\n",
    "##### Create the new variable \"test_accuracy\", refer to trained_model.evaluate class, use test data (a) and test data labels (b).\n"
   ]
  },
  {
   "cell_type": "code",
   "execution_count": 21,
   "metadata": {},
   "outputs": [
    {
     "name": "stdout",
     "output_type": "stream",
     "text": [
      "334/334 [==============================] - 0s 289us/step - loss: 0.0896 - accuracy: 0.9713\n"
     ]
    }
   ],
   "source": [
    "test_accuracy = trained_model.evaluate(\n",
    "    x=test_images,\n",
    "    y=to_categorical(test_labels),\n",
    "    batch_size=30,\n",
    "    verbose=1,\n",
    "    callbacks=[f1, f2]\n",
    ")"
   ]
  },
  {
   "cell_type": "markdown",
   "metadata": {},
   "source": [
    "### 📚 Task 7\n",
    "##### Perform network training for 100 epochs. When will it end?"
   ]
  },
  {
   "cell_type": "code",
   "execution_count": 23,
   "metadata": {},
   "outputs": [
    {
     "name": "stdout",
     "output_type": "stream",
     "text": [
      "Epoch 1/100\n",
      "1911/2000 [===========================>..] - ETA: 0s - loss: 0.0125 - accuracy: 0.9965\n",
      "Epoch 1: val_accuracy improved from 0.97130 to 0.97460, saving model to task2model\n",
      "INFO:tensorflow:Assets written to: task2model/assets\n",
      "2000/2000 [==============================] - 1s 601us/step - loss: 0.0122 - accuracy: 0.9966 - val_loss: 0.2466 - val_accuracy: 0.9746\n",
      "Epoch 2/100\n",
      "1923/2000 [===========================>..] - ETA: 0s - loss: 0.0151 - accuracy: 0.9958\n",
      "Epoch 2: val_accuracy did not improve from 0.97460\n",
      "2000/2000 [==============================] - 1s 463us/step - loss: 0.0151 - accuracy: 0.9958 - val_loss: 0.2845 - val_accuracy: 0.9720\n",
      "Epoch 3/100\n",
      "1935/2000 [============================>.] - ETA: 0s - loss: 0.0148 - accuracy: 0.9957\n",
      "Epoch 3: val_accuracy did not improve from 0.97460\n",
      "2000/2000 [==============================] - 1s 462us/step - loss: 0.0150 - accuracy: 0.9957 - val_loss: 0.2940 - val_accuracy: 0.9730\n",
      "Epoch 4/100\n",
      "1979/2000 [============================>.] - ETA: 0s - loss: 0.0142 - accuracy: 0.9961\n",
      "Epoch 4: val_accuracy did not improve from 0.97460\n",
      "2000/2000 [==============================] - 1s 477us/step - loss: 0.0145 - accuracy: 0.9961 - val_loss: 0.2988 - val_accuracy: 0.9710\n",
      "Epoch 5/100\n",
      "1911/2000 [===========================>..] - ETA: 0s - loss: 0.0147 - accuracy: 0.9961\n",
      "Epoch 5: val_accuracy did not improve from 0.97460\n",
      "2000/2000 [==============================] - 1s 466us/step - loss: 0.0155 - accuracy: 0.9960 - val_loss: 0.2813 - val_accuracy: 0.9740\n",
      "Epoch 6/100\n",
      "1913/2000 [===========================>..] - ETA: 0s - loss: 0.0144 - accuracy: 0.9961\n",
      "Epoch 6: val_accuracy did not improve from 0.97460\n",
      "2000/2000 [==============================] - 1s 464us/step - loss: 0.0150 - accuracy: 0.9960 - val_loss: 0.2696 - val_accuracy: 0.9720\n",
      "Epoch 7/100\n",
      "1931/2000 [===========================>..] - ETA: 0s - loss: 0.0132 - accuracy: 0.9960\n",
      "Epoch 7: val_accuracy did not improve from 0.97460\n",
      "2000/2000 [==============================] - 1s 461us/step - loss: 0.0129 - accuracy: 0.9961 - val_loss: 0.2784 - val_accuracy: 0.9739\n",
      "Epoch 8/100\n",
      "1918/2000 [===========================>..] - ETA: 0s - loss: 0.0158 - accuracy: 0.9960\n",
      "Epoch 8: val_accuracy improved from 0.97460 to 0.97650, saving model to task2model\n",
      "INFO:tensorflow:Assets written to: task2model/assets\n",
      "2000/2000 [==============================] - 1s 536us/step - loss: 0.0158 - accuracy: 0.9959 - val_loss: 0.2646 - val_accuracy: 0.9765\n",
      "Epoch 9/100\n",
      "1923/2000 [===========================>..] - ETA: 0s - loss: 0.0156 - accuracy: 0.9960\n",
      "Epoch 9: val_accuracy did not improve from 0.97650\n",
      "2000/2000 [==============================] - 1s 463us/step - loss: 0.0152 - accuracy: 0.9961 - val_loss: 0.2670 - val_accuracy: 0.9743\n",
      "Epoch 10/100\n",
      "1927/2000 [===========================>..] - ETA: 0s - loss: 0.0148 - accuracy: 0.9960\n",
      "Epoch 10: val_accuracy did not improve from 0.97650\n",
      "2000/2000 [==============================] - 1s 463us/step - loss: 0.0146 - accuracy: 0.9960 - val_loss: 0.2886 - val_accuracy: 0.9740\n",
      "Epoch 11/100\n",
      "1909/2000 [===========================>..] - ETA: 0s - loss: 0.0118 - accuracy: 0.9968\n",
      "Epoch 11: val_accuracy did not improve from 0.97650\n",
      "2000/2000 [==============================] - 1s 466us/step - loss: 0.0127 - accuracy: 0.9967 - val_loss: 0.3499 - val_accuracy: 0.9712\n",
      "Epoch 11: early stopping\n"
     ]
    },
    {
     "data": {
      "text/plain": [
       "<keras.callbacks.History at 0x177dc6680>"
      ]
     },
     "execution_count": 23,
     "metadata": {},
     "output_type": "execute_result"
    }
   ],
   "source": [
    "model.fit(\n",
    "  x=train_images,\n",
    "  y=to_categorical(train_labels),\n",
    "  validation_data=(test_images, to_categorical(test_labels)),\n",
    "  epochs=100,\n",
    "  verbose=1,\n",
    "  batch_size=30,\n",
    "  callbacks=[f1, f2]\n",
    ")\n",
    "\n",
    "# the patience variable is set to 10 so after it doesn't improve after ten times"
   ]
  },
  {
   "cell_type": "markdown",
   "metadata": {},
   "source": [
    "### 📚 Task 8\n",
    "##### Show information concerning accuracy of the classification on the training and test material."
   ]
  },
  {
   "cell_type": "code",
   "execution_count": 28,
   "metadata": {},
   "outputs": [
    {
     "name": "stdout",
     "output_type": "stream",
     "text": [
      "Train loss and accuracy:  [0.05736484006047249, 0.9821166396141052]\n",
      "Test loss and accuracy:  [0.0895533412694931, 0.9713000059127808]\n"
     ]
    }
   ],
   "source": [
    "# [loss, accuracy]\n",
    "print(\"Train loss and accuracy: \", train_accuracy)\n",
    "print(\"Test loss and accuracy: \", test_accuracy)"
   ]
  },
  {
   "cell_type": "markdown",
   "metadata": {},
   "source": [
    "### 📚 Task 9\n",
    "##### Generate a chart showing the network learning process."
   ]
  },
  {
   "cell_type": "code",
   "execution_count": 32,
   "metadata": {},
   "outputs": [
    {
     "data": {
      "image/png": "[encoded data removed]",
      "text/plain": [
       "<Figure size 640x480 with 1 Axes>"
      ]
     },
     "metadata": {},
     "output_type": "display_data"
    },
    {
     "data": {
      "image/png": "[encoded data removed]",
      "text/plain": [
       "<Figure size 640x480 with 1 Axes>"
      ]
     },
     "metadata": {},
     "output_type": "display_data"
    }
   ],
   "source": [
    "plt.plot(history.history['loss'], label='Training Loss')\n",
    "plt.plot(history.history['val_loss'], label='Validation Loss')\n",
    "plt.xlabel('Epoch')\n",
    "plt.ylabel('Loss')\n",
    "plt.legend()\n",
    "plt.show()\n",
    "\n",
    "plt.plot(history.history['accuracy'], label='Training Accuracy')\n",
    "plt.plot(history.history['val_accuracy'], label='Validation Accuracy')\n",
    "plt.xlabel('Epoch')\n",
    "plt.ylabel('Accuracy')\n",
    "plt.legend()\n",
    "plt.show()"
   ]
  },
  {
   "cell_type": "markdown",
   "metadata": {
    "colab": {
     "base_uri": "https://localhost:8080/"
    },
    "id": "vor0CQ8gCY4d",
    "outputId": "d912f9df-9fd5-42b2-c090-70f5d2a5c512"
   },
   "source": [
    "### 📚 Task 10\n",
    "##### Try another loss function (Poison). Does such a function make sense in the case of our data set?"
   ]
  },
  {
   "cell_type": "code",
   "execution_count": 37,
   "metadata": {},
   "outputs": [
    {
     "name": "stdout",
     "output_type": "stream",
     "text": [
      "Epoch 1/10\n",
      "2000/2000 [==============================] - 1s 478us/step - loss: 0.1353 - accuracy: 0.8935 - val_loss: 0.1201 - val_accuracy: 0.9408\n",
      "Epoch 2/10\n",
      "2000/2000 [==============================] - 1s 456us/step - loss: 0.1184 - accuracy: 0.9441 - val_loss: 0.1148 - val_accuracy: 0.9535\n",
      "Epoch 3/10\n",
      "2000/2000 [==============================] - 1s 456us/step - loss: 0.1140 - accuracy: 0.9573 - val_loss: 0.1125 - val_accuracy: 0.9619\n",
      "Epoch 4/10\n",
      "2000/2000 [==============================] - 1s 450us/step - loss: 0.1117 - accuracy: 0.9636 - val_loss: 0.1144 - val_accuracy: 0.9571\n",
      "Epoch 5/10\n",
      "2000/2000 [==============================] - 1s 460us/step - loss: 0.1104 - accuracy: 0.9681 - val_loss: 0.1104 - val_accuracy: 0.9694\n",
      "Epoch 6/10\n",
      "2000/2000 [==============================] - 1s 457us/step - loss: 0.1093 - accuracy: 0.9696 - val_loss: 0.1104 - val_accuracy: 0.9689\n",
      "Epoch 7/10\n",
      "2000/2000 [==============================] - 1s 463us/step - loss: 0.1082 - accuracy: 0.9736 - val_loss: 0.1101 - val_accuracy: 0.9702\n",
      "Epoch 8/10\n",
      "2000/2000 [==============================] - 1s 454us/step - loss: 0.1077 - accuracy: 0.9749 - val_loss: 0.1120 - val_accuracy: 0.9652\n",
      "Epoch 9/10\n",
      "2000/2000 [==============================] - 1s 461us/step - loss: 0.1070 - accuracy: 0.9771 - val_loss: 0.1092 - val_accuracy: 0.9728\n",
      "Epoch 10/10\n",
      "2000/2000 [==============================] - 1s 460us/step - loss: 0.1063 - accuracy: 0.9797 - val_loss: 0.1108 - val_accuracy: 0.9675\n"
     ]
    },
    {
     "data": {
      "text/plain": [
       "<keras.callbacks.History at 0x15fd38670>"
      ]
     },
     "execution_count": 37,
     "metadata": {},
     "output_type": "execute_result"
    }
   ],
   "source": [
    "model2 = Sequential([\n",
    "  Dense(64, activation='relu', input_shape=(784,)),\n",
    "  Dense(64, activation='relu'),\n",
    "  Dense(10, activation='softmax'),\n",
    "])\n",
    "\n",
    "model2.compile(\n",
    "    optimizer='adam',\n",
    "    loss='poisson',\n",
    "    metrics=['accuracy']\n",
    ")\n",
    "\n",
    "model2.fit(\n",
    "  x=train_images,\n",
    "  y=to_categorical(train_labels),\n",
    "  validation_data=(test_images, to_categorical(test_labels)),\n",
    "  epochs=10,\n",
    "  verbose=1,\n",
    "  batch_size=30\n",
    ")\n"
   ]
  },
  {
   "cell_type": "markdown",
   "metadata": {},
   "source": [
    "### 📚 Task 11\n",
    "##### Try another optimizer (use the Adadelta algorithm). Do you see any changes in model parametrs compared to the algorithm used in the tutorial (adam)? Why do we see differences? (see https://keras.io/api/optimizers/adadelta)."
   ]
  },
  {
   "cell_type": "code",
   "execution_count": 38,
   "metadata": {
    "id": "2xiPZFscR6fQ"
   },
   "outputs": [
    {
     "name": "stdout",
     "output_type": "stream",
     "text": [
      "Epoch 1/10\n",
      "3000/3000 [==============================] - 1s 400us/step - loss: 2.2830 - accuracy: 0.1337\n",
      "Epoch 2/10\n",
      "3000/3000 [==============================] - 1s 396us/step - loss: 2.0972 - accuracy: 0.3490\n",
      "Epoch 3/10\n",
      "3000/3000 [==============================] - 1s 396us/step - loss: 1.9573 - accuracy: 0.4600\n",
      "Epoch 4/10\n",
      "3000/3000 [==============================] - 1s 394us/step - loss: 1.8182 - accuracy: 0.5268\n",
      "Epoch 5/10\n",
      "3000/3000 [==============================] - 1s 396us/step - loss: 1.6791 - accuracy: 0.5902\n",
      "Epoch 6/10\n",
      "3000/3000 [==============================] - 1s 396us/step - loss: 1.5440 - accuracy: 0.6433\n",
      "Epoch 7/10\n",
      "3000/3000 [==============================] - 1s 398us/step - loss: 1.4193 - accuracy: 0.6846\n",
      "Epoch 8/10\n",
      "3000/3000 [==============================] - 1s 398us/step - loss: 1.3066 - accuracy: 0.7202\n",
      "Epoch 9/10\n",
      "3000/3000 [==============================] - 1s 407us/step - loss: 1.2061 - accuracy: 0.7462\n",
      "Epoch 10/10\n",
      "3000/3000 [==============================] - 1s 397us/step - loss: 1.1173 - accuracy: 0.7689\n"
     ]
    },
    {
     "data": {
      "text/plain": [
       "<keras.callbacks.History at 0x15f788bb0>"
      ]
     },
     "execution_count": 38,
     "metadata": {},
     "output_type": "execute_result"
    }
   ],
   "source": [
    "model3 = Sequential([\n",
    "  Dense(64, activation='relu', input_shape=(784,)),\n",
    "  Dense(64, activation='relu'),\n",
    "  Dense(10, activation='softmax'),\n",
    "])\n",
    "\n",
    "model3.compile(\n",
    "    optimizer='adadelta',\n",
    "    loss='categorical_crossentropy',\n",
    "    metrics=['accuracy']\n",
    ")\n",
    "model3.fit(\n",
    "  train_images,\n",
    "  to_categorical(train_labels),\n",
    "  epochs=10,\n",
    "  batch_size=20,\n",
    ") "
   ]
  },
  {
   "cell_type": "code",
   "execution_count": 46,
   "metadata": {},
   "outputs": [
    {
     "name": "stdout",
     "output_type": "stream",
     "text": [
      "Example of weights for adam optimizer:  [-0.00692242 -0.0931941  -0.00600195 -0.00810099 -0.06018658 -0.02930837\n",
      " -0.00847527  0.05314197 -0.01109482 -0.01135985 -0.00704635 -0.0866247\n",
      "  0.10243818 -0.1893249   0.          0.0290437   0.03261253 -0.00600364\n",
      "  0.01575878 -0.0059698  -0.02766078 -0.00685861 -0.00211184 -0.01756635\n",
      " -0.09243315 -0.00512443 -0.00820438 -0.04051513 -0.03787548  0.02173641\n",
      " -0.01956144 -0.0075177  -0.01194358  0.04506225 -0.01266149 -0.04960687\n",
      " -0.10344842 -0.01164495 -0.0078451   0.05967    -0.00748828 -0.00515141\n",
      " -0.05107313 -0.03548076 -0.00467832 -0.03466143 -0.01002339 -0.00641751\n",
      "  0.05416427  0.0738619  -0.00515509 -0.02204319 -0.00412065  0.00745374\n",
      " -0.07595591 -0.09050618 -0.00179952 -0.04708515 -0.0201327  -0.00818457\n",
      "  0.02104803 -0.01135991 -0.00711642 -0.02930104]\n",
      "Example of weights for adadelta optimizer:  [ 5.9009162e-03  5.4052360e-03  1.7611623e-04  5.7937670e-03\n",
      "  2.7898198e-03  2.2746117e-03  7.6906127e-03  5.6947032e-03\n",
      "  9.2176236e-03 -1.9892564e-03  5.2763908e-03  6.0923751e-03\n",
      "  7.1968292e-03 -2.7882382e-03  4.0979460e-03  7.4250759e-03\n",
      "  5.2944990e-03 -7.8746711e-04 -3.0977861e-03 -2.0255174e-03\n",
      " -1.5363523e-03  1.8971210e-03  2.1612456e-03 -1.7025903e-03\n",
      "  4.3976307e-03  3.3791179e-03 -7.9797419e-06  7.6035126e-03\n",
      "  3.3325283e-03  3.0820738e-03 -3.9138794e-03  3.4082660e-03\n",
      " -3.5940048e-03  4.9249353e-03  1.0552440e-03  7.0898549e-04\n",
      "  1.3473125e-03 -1.1255420e-03  1.3910866e-03  3.2036446e-04\n",
      " -1.9453148e-03 -1.0321822e-03  6.0670264e-04  3.1924902e-03\n",
      "  4.6691136e-03  2.6341963e-03  3.2171325e-03  3.8660431e-04\n",
      "  1.4817266e-03  7.2486873e-04  5.3651063e-03  3.6099905e-03\n",
      "  1.9456673e-03  3.4714942e-03  4.1414318e-03  1.5382402e-03\n",
      "  9.6918264e-04  6.4887404e-03  2.6908934e-03  1.1830844e-03\n",
      " -2.0256535e-04 -2.2665551e-03  1.1012678e-02 -1.6509406e-03]\n"
     ]
    }
   ],
   "source": [
    "adam_params = model.get_weights()\n",
    "adadelta_params = model3.get_weights()\n",
    "\n",
    "print(\"Example of weights for adam optimizer: \", adam_params[1])\n",
    "print(\"Example of weights for adadelta optimizer: \",adadelta_params[1])\n",
    "\n",
    "# There is a big difference in how the weights are computed as you can see below:"
   ]
  }
 ],
 "metadata": {
  "accelerator": "GPU",
  "colab": {
   "collapsed_sections": [],
   "name": "9. Data Science z Python 3.10. Optymalizator, funkcja straty i early stopping.ipynb",
   "provenance": []
  },
  "kernelspec": {
   "display_name": "Python 3 (ipykernel)",
   "language": "python",
   "name": "python3"
  },
  "language_info": {
   "codemirror_mode": {
    "name": "ipython",
    "version": 3
   },
   "file_extension": ".py",
   "mimetype": "text/x-python",
   "name": "python",
   "nbconvert_exporter": "python",
   "pygments_lexer": "ipython3",
   "version": "3.10.10"
  }
 },
 "nbformat": 4,
 "nbformat_minor": 1
}
